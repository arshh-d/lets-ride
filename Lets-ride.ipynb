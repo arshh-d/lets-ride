{
 "cells": [
  {
   "cell_type": "markdown",
   "id": "f52ef6f4",
   "metadata": {},
   "source": [
    "# Lest-ride API demo"
   ]
  },
  {
   "cell_type": "code",
   "execution_count": 52,
   "id": "4f0e73b5",
   "metadata": {},
   "outputs": [],
   "source": [
    "import requests as r\n",
    "import json"
   ]
  },
  {
   "cell_type": "markdown",
   "id": "9edc15a7",
   "metadata": {},
   "source": [
    "## Create Ride\n",
    "###### This endpoint creates a new ride with provided details"
   ]
  },
  {
   "cell_type": "code",
   "execution_count": 56,
   "id": "436a2dff",
   "metadata": {},
   "outputs": [],
   "source": [
    "url = \"http://localhost:8000/rider/create_ride/\"\n",
    "data = {\n",
    "    \"source\": \"BTM\",\n",
    "    \"destination\": \"KIA\",\n",
    "    \"datetime\": \"26/01/23 22:30:00\",\n",
    "    \"travel_medium\": \"BS\",\n",
    "    \"quantity\": 2\n",
    "}\n",
    "headers = {\n",
    "    'content-type': 'application/json'\n",
    "}\n",
    "res = r.post(url=url, data=json.dumps(data), headers=headers)"
   ]
  },
  {
   "cell_type": "code",
   "execution_count": 57,
   "id": "5d0398bb",
   "metadata": {},
   "outputs": [
    {
     "data": {
      "text/plain": [
       "<Response [200]>"
      ]
     },
     "execution_count": 57,
     "metadata": {},
     "output_type": "execute_result"
    }
   ],
   "source": [
    "res"
   ]
  },
  {
   "cell_type": "code",
   "execution_count": 58,
   "id": "3c856b51",
   "metadata": {},
   "outputs": [
    {
     "data": {
      "text/plain": [
       "{'msg': 'ride created'}"
      ]
     },
     "execution_count": 58,
     "metadata": {},
     "output_type": "execute_result"
    }
   ],
   "source": [
    "create_ride_response = json.loads(res.content)\n",
    "create_ride_response"
   ]
  },
  {
   "cell_type": "markdown",
   "id": "a8a807d4",
   "metadata": {},
   "source": [
    "## Create request\n",
    "###### This endpoint creates a new asset transportation request for the given requester ID"
   ]
  },
  {
   "cell_type": "code",
   "execution_count": 61,
   "id": "31e7df15",
   "metadata": {},
   "outputs": [
    {
     "data": {
      "text/plain": [
       "{'msg': 'request created successfully',\n",
       " 'request_id': 'fd190bbb-3c64-4a86-9637-71c67f2af095'}"
      ]
     },
     "execution_count": 61,
     "metadata": {},
     "output_type": "execute_result"
    }
   ],
   "source": [
    "url = \"http://localhost:8000/requester/create_request/\"\n",
    "data = {\n",
    "    \"requester_id\": 6,\n",
    "    \"source\": \"BTM\",\n",
    "    \"destination\": \"KIA\",\n",
    "    \"datetime\": \"26/01/23 10:30:00\",\n",
    "    \"quantity\": 1,\n",
    "    \"asset_type\": \"LP\",\n",
    "    \"sensitivity\": \"HS\"\n",
    "}\n",
    "headers = {\n",
    "    'content-type': 'application/json'\n",
    "}\n",
    "res = r.post(url=url, data=json.dumps(data), headers=headers)\n",
    "create_request_response = json.loads(res.content)\n",
    "create_request_response"
   ]
  },
  {
   "cell_type": "markdown",
   "id": "78db22bf",
   "metadata": {},
   "source": [
    "## List all request of a requester\n",
    "##### This endpoint retrieves all the requests created by a requester\n",
    "##### param: sortby: sort on ascending or descending order of the date and time of request\n",
    "##### param: offset: implements pagination \n",
    "##### param: limit: number of request to show per page\n",
    "##### param: status: filter requests on status\n",
    "##### param: asset_type: filter requests on asset_type"
   ]
  },
  {
   "cell_type": "code",
   "execution_count": 66,
   "id": "9040140c",
   "metadata": {},
   "outputs": [
    {
     "data": {
      "text/plain": [
       "{'request_list': [{'request_id': '42afa436-2c20-41fe-b4f9-c53f413b038f',\n",
       "   'source': 'BTM',\n",
       "   'destination': 'KIA',\n",
       "   'datetime': '2023-01-21T10:30:00Z',\n",
       "   'timestamp': 1674297000,\n",
       "   'quantity': 1,\n",
       "   'asset_type': 'LP',\n",
       "   'sensitivity': 'HS',\n",
       "   'status': 'EX'},\n",
       "  {'request_id': '46f7e081-e405-43c2-a237-d7dbb50c8344',\n",
       "   'source': 'BTM',\n",
       "   'destination': 'KIA',\n",
       "   'datetime': '2023-01-27T10:30:00Z',\n",
       "   'timestamp': 1674815400,\n",
       "   'quantity': 1,\n",
       "   'asset_type': 'LP',\n",
       "   'sensitivity': 'HS',\n",
       "   'status': 'PD'}]}"
      ]
     },
     "execution_count": 66,
     "metadata": {},
     "output_type": "execute_result"
    }
   ],
   "source": [
    "url = \"http://localhost:8000/requester/get_requesters_request/2/?sortby=ASC&offset=0&limit=3&status=&asset_type=LP\"\n",
    "res = r.get(url)\n",
    "list_all_request = json.loads(res.content)\n",
    "list_all_request"
   ]
  },
  {
   "cell_type": "code",
   "execution_count": null,
   "id": "7fa12f9e",
   "metadata": {},
   "outputs": [],
   "source": []
  },
  {
   "cell_type": "markdown",
   "id": "0f5fe56e",
   "metadata": {},
   "source": [
    "## Get Match\n",
    "##### lists all the matching rides for a given request_id"
   ]
  },
  {
   "cell_type": "code",
   "execution_count": 65,
   "id": "120ee541",
   "metadata": {},
   "outputs": [
    {
     "data": {
      "text/plain": [
       "{'request_id': 'fd190bbb-3c64-4a86-9637-71c67f2af095',\n",
       " 'requester_id': 6,\n",
       " 'request_list': [{'rider_id': '736844b6-76a2-4ed8-b0de-27d152694423',\n",
       "   'source': 'BTM',\n",
       "   'destination': 'KIA',\n",
       "   'datetime': '2023-01-26T22:30:00Z',\n",
       "   'timestamp': 1674772200,\n",
       "   'travel_medium': 'BS',\n",
       "   'quantity': 1,\n",
       "   'applied': True}]}"
      ]
     },
     "execution_count": 65,
     "metadata": {},
     "output_type": "execute_result"
    }
   ],
   "source": [
    "url = \"http://localhost:8000/requester/get_match/fd190bbb-3c64-4a86-9637-71c67f2af095/\"\n",
    "res = r.get(url)\n",
    "get_match_response = json.loads(res.content)\n",
    "get_match_response"
   ]
  },
  {
   "cell_type": "markdown",
   "id": "310b51c2",
   "metadata": {},
   "source": [
    "### Apply for a ride\n",
    "##### This endpoint creates application of a request on given rider"
   ]
  },
  {
   "cell_type": "code",
   "execution_count": 64,
   "id": "d8d62cb1",
   "metadata": {},
   "outputs": [
    {
     "data": {
      "text/plain": [
       "{'response_message': 'applied successfully'}"
      ]
     },
     "execution_count": 64,
     "metadata": {},
     "output_type": "execute_result"
    }
   ],
   "source": [
    "url = \"http://localhost:8000/requester/apply/\"\n",
    "data = {\n",
    "    \"rider_id\": \"736844b6-76a2-4ed8-b0de-27d152694423\",\n",
    "    \"request_id\": \"fd190bbb-3c64-4a86-9637-71c67f2af095\"\n",
    "}\n",
    "headers = {\n",
    "    'content-type': 'application/json'\n",
    "}\n",
    "res = r.post(url=url, data=json.dumps(data), headers=headers)\n",
    "apply_response = json.loads(res.content)\n",
    "apply_response"
   ]
  },
  {
   "cell_type": "code",
   "execution_count": null,
   "id": "cfc30d0c",
   "metadata": {},
   "outputs": [],
   "source": []
  }
 ],
 "metadata": {
  "kernelspec": {
   "display_name": "Python 3 (ipykernel)",
   "language": "python",
   "name": "python3"
  },
  "language_info": {
   "codemirror_mode": {
    "name": "ipython",
    "version": 3
   },
   "file_extension": ".py",
   "mimetype": "text/x-python",
   "name": "python",
   "nbconvert_exporter": "python",
   "pygments_lexer": "ipython3",
   "version": "3.8.9"
  }
 },
 "nbformat": 4,
 "nbformat_minor": 5
}
